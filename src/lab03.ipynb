{
 "cells": [
  {
   "cell_type": "markdown",
   "id": "5d944382",
   "metadata": {},
   "source": [
    "## Laboratorio 03 - Programación dinámica\n",
    "Integrantes:\n",
    "- Ricardo Méndez\n",
    "- Sara Echevería\n",
    "- Melissa Pérez\n",
    "\n",
    "Repositorio: https://github.com/MelissaPerez09/Lab03-CC3104"
   ]
  },
  {
   "cell_type": "markdown",
   "id": "be156223",
   "metadata": {},
   "source": [
    "### Task 01\n",
    "1. ¿Qué es Programación Dinámica y cómo se relaciona con RL?\n",
    "    - La programación dinámica es una técnica de optimización que se usa para resolver problemas complejos. Lo que hace es dividir el problema en subproblemas para hacerlo más simple y así poder resolver uno a la vez.\n",
    "    - Se relaciona con RL porque es aplicable en los casos donde el modelo conoce el entorno completo para buscar una política óptima. Principalmente se relacionan los conceptos de la iteración valor y la iteración de póliza.\n",
    "2. Explique en sus propias palabras el algoritmo de Iteración de Póliza.\n",
    "    - Es un algoritmo que busca encontrar la política óptima en un MDP mediante un proceso iterativo. El proceso se basa en la evaluación y la mejora de la política.\n",
    "    - Primero, se parte de una política aleatoria donde en la evaluación se calcula una función de valor esperado para definir cada estado al seguir la política. Luego, en la mejora se ajusta la política usando la función de valor obtenida para seleccionar en cada estado la acción que maximice ese valor. El ciclo se repite iterativamente hasta obtener la política óptima.\n",
    "3. Explique en sus propias palabras el algoritmo de Iteración de Valor.\n",
    "    - Es una técnica de programación dinámica para calcular el valor óptimo de cada estado y la política óptima de manera simultánea. \n",
    "    - Se inicia con una función valor con ceros donde se va actualizando con la ecuación de Bellman. En cada estado se elige la acción que maximice la suma de la recompensa esperada. El proceso se repite hasta que los valores de los estados dejen de cambiar para que al final, se extraiga la política óptima.\n",
    "4. En el laboratorio pasado, vimos que el valor de los premios obtenidos se mantienen constantes, ¿por qué?\n",
    "    - Se mantenían constantes porque estaban definidas como parte del entorno del MDP, no dependían de la política ni de los valores de los estados. Básicamente, no importaba la secuencia de decisiones porque era un ambiente determinista con una recompensa fija.\n"
   ]
  },
  {
   "cell_type": "markdown",
   "id": "68e1cef5",
   "metadata": {},
   "source": [
    "### Task 02"
   ]
  }
 ],
 "metadata": {
  "language_info": {
   "name": "python"
  }
 },
 "nbformat": 4,
 "nbformat_minor": 5
}
